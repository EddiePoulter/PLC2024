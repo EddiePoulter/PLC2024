{
 "nbformat_minor": 0,
 "nbformat": 4,
 "metadata": {
  "kernelspec": {
   "language": "python",
   "display_name": "Python 3",
   "name": "python3"
  },
  "language_info": {
   "name": "python"
  },
  "colab": {
   "provenance": []
  },
  "gpuClass": "standard"
 },
 "cells": [
  {
   "metadata": {
    "collapsed": false
   },
   "cell_type": "markdown",
   "source": [
    "**CONCURRENCY IN PYTHON**\n",
    "**Learning Outcomes**\n",
    "\n",
    "In this lab you will learn\n",
    "\n",
    "1.   The concept of a Thread in Python\n",
    "2.   How to create and join threads\n",
    "3.   How lack of synchronisation between threads can lead to race conditions.\n",
    "4.   To work with the `multiprocessing` package in Python.\n",
    "5.   To appreciate the trade-off between the complexity introduced by concurrency and the gains obtained in programme execution time.\n",
    "\n"
   ]
  },
  {
   "metadata": {
    "collapsed": false
   },
   "cell_type": "markdown",
   "source": [
    "**Setup**\n",
    "\n",
    "1.   Turn one line numbers in code blocks by going to Tools -> Settings -> Editor -> **show line numbers**.\n",
    "2.   Run the Python code below. It contains 3 threads: `main`, `threadA` and `threadB`. The `main` thread does not wait for `threadA` and `threadB` to finish.\n"
   ]
  },
  {
   "metadata": {
    "collapsed": false
   },
   "cell_type": "markdown",
   "source": [
    "**Code Block 01**\n"
   ]
  },
  {
   "execution_count": 5,
   "source": [
    "import time\n",
    "import threading\n",
    "\n",
    "\n",
    "def testfuncA(name):\n",
    "    print(f'testfuncA started with {name}')\n",
    "    time.sleep(10)\n",
    "    print('testfuncA ended')\n",
    "\n",
    "\n",
    "def testfuncB(name):\n",
    "    print(f'testfuncB started with {name}')\n",
    "    time.sleep(10)\n",
    "    print('testfuncB ended')\n",
    "\n",
    "\n",
    "if __name__ == '__main__':\n",
    "    time1 = time.time()\n",
    "    print('main started')\n",
    "    threadA = threading.Thread(target=testfuncA, args=['ABC'])\n",
    "    threadA.start()\n",
    "    threadB = threading.Thread(target=testfuncB, args=['DEF'])\n",
    "    threadB.start()\n",
    "    runTime = time.time() - time1\n",
    "    print(f\"main ended in {round(runTime, 4)} sec\")\n"
   ],
   "outputs": [
    {
     "name": "stdout",
     "output_type": "stream",
     "text": [
      "main started\n",
      "testfuncA started with ABC\n",
      "testfuncB started with DEF\n",
      "main ended in 0.0012 sec\n"
     ]
    }
   ],
   "cell_type": "code",
   "metadata": {
    "collapsed": false,
    "ExecuteTime": {
     "end_time": "2024-03-04T13:31:27.293094111Z",
     "start_time": "2024-03-04T13:31:27.225063127Z"
    }
   }
  },
  {
   "metadata": {
    "collapsed": false
   },
   "cell_type": "markdown",
   "source": [
    "**Task 7.1**\n",
    "You can make the `main` thread wait for another thread by using the `Thread.join()` method. Add the commands given below after the `threadB.start()` command (Line-20) in *Code Block 01* and examine any changes to your runtime.\n",
    "\n",
    "\n",
    "```\n",
    "threadA.join()\n",
    "threadB.join()\n",
    "```\n",
    "\n"
   ]
  },
  {
   "metadata": {
    "collapsed": false
   },
   "cell_type": "markdown",
   "source": [
    "The purpose of the `Thread.join()` method is to block the calling/current thread until the target thread, that is being joined, has terminated. Explore this concept in \"Code Block 01\" by making minor modifications to it to make sure you understand this concept.\n"
   ]
  },
  {
   "metadata": {
    "collapsed": false
   },
   "cell_type": "markdown",
   "source": [
    "**Resulting Block**\n"
   ]
  },
  {
   "execution_count": 6,
   "source": [
    "import time\n",
    "import threading\n",
    "\n",
    "def testfuncA(name):\n",
    "    print(f'testfuncA started with {name}')\n",
    "    time.sleep(10)\n",
    "    print('testfuncA ended')\n",
    "\n",
    "def testfuncB(name):\n",
    "    print(f'testfuncB started with {name}')\n",
    "    time.sleep(10)\n",
    "    print('testfuncB ended')\n",
    "\n",
    "if __name__ == '__main__':\n",
    "    time1 = time.time()\n",
    "    print('main started')\n",
    "    threadA = threading.Thread(target=testfuncA, args=['ABC'])\n",
    "    threadA.start()\n",
    "    threadB = threading.Thread(target=testfuncB, args=['DEF'])\n",
    "    threadB.start()\n",
    "    threadA.join()\n",
    "    threadB.join()\n",
    "    runTime = time.time() - time1\n",
    "    print(f\"main ended in {round(runTime, 4)} sec\")\n"
   ],
   "outputs": [
    {
     "name": "stdout",
     "output_type": "stream",
     "text": [
      "main started\n",
      "testfuncA started with ABC\n",
      "testfuncB started with DEF\n",
      "testfuncA ended\n",
      "testfuncB ended\n",
      "main ended in 10.0022 sec\n"
     ]
    }
   ],
   "cell_type": "code",
   "metadata": {
    "collapsed": false,
    "ExecuteTime": {
     "end_time": "2024-03-04T13:31:55.487484909Z",
     "start_time": "2024-03-04T13:31:45.482972538Z"
    }
   }
  },
  {
   "metadata": {
    "collapsed": false
   },
   "cell_type": "markdown",
   "source": [
    "**Task 7.2**\n",
    "1.   Modify \"Code Block 02\" (given below) so that `threadB` is called from inside `testfuncA`, instead of the `main`.\n",
    "2.   `testfuncA` should wait for `threadB` to complete before moving on.\n",
    "\n",
    "\n",
    "\n"
   ]
  },
  {
   "metadata": {
    "collapsed": false
   },
   "cell_type": "markdown",
   "source": [
    "**Code Block 02**\n"
   ]
  },
  {
   "execution_count": 7,
   "source": [
    "import time\n",
    "import threading\n",
    "\n",
    "def testfuncA(name, sleepTime, fun):\n",
    "    print(f'testfuncA started with {name}')\n",
    "    threadB = threading.Thread(target=testfuncB, args=['DEF', 2])\n",
    "    threadB.start()\n",
    "    threadB.join()\n",
    "    time.sleep(sleepTime)\n",
    "    print('testfuncA ended')\n",
    "\n",
    "def testfuncB(name, sleepTime):\n",
    "    print(f'testfuncB started with {name}')\n",
    "    time.sleep(sleepTime)\n",
    "    print('testfuncB ended')\n",
    "\n",
    "if __name__ == '__main__':\n",
    "    time1 = time.time()\n",
    "    print('main started')\n",
    "    threadA = threading.Thread(target=testfuncA, args=['ABC', 5, testfuncB])\n",
    "    threadA.start()\n",
    "    threadA.join()\n",
    "    runTime = time.time() - time1\n",
    "    print(f\"main ended in {round(runTime, 4)} sec\")\n"
   ],
   "outputs": [
    {
     "name": "stdout",
     "output_type": "stream",
     "text": [
      "main started\n",
      "testfuncA started with ABC\n",
      "testfuncB started with DEF\n",
      "testfuncB ended\n",
      "testfuncA ended\n",
      "main ended in 7.002 sec\n"
     ]
    }
   ],
   "cell_type": "code",
   "metadata": {
    "collapsed": false,
    "ExecuteTime": {
     "end_time": "2024-03-04T13:34:29.484008332Z",
     "start_time": "2024-03-04T13:34:22.436172521Z"
    }
   }
  },
  {
   "metadata": {
    "collapsed": false
   },
   "cell_type": "markdown",
   "source": [
    "**Review Quiz Q1 [Task 7.2]**\n",
    "\n",
    "What will be the most likely output of the final print statement in the program below?\n",
    "\n",
    "1.   main ended in 0.0104 sec\n",
    "2.   main ended in 2.0204 sec\n",
    "3.   main ended in 6.0015 sec\n",
    "4.   **main ended in 8.0157 sec**\n",
    "5.   main ended in 10.0325 sec\n",
    "6.   main ended in 12.0281 sec\n",
    "\n",
    "\n"
   ]
  },
  {
   "execution_count": 2,
   "source": [
    "import time\n",
    "import threading\n",
    "\n",
    "def func1(name):\n",
    "    print(f'func1 started with {name}')\n",
    "    thread2 = threading.Thread(target=func2, args=['DEF', 2])\n",
    "    thread2.start()\n",
    "    thread2.join()\n",
    "    time.sleep(6)\n",
    "    print('testfuncA ended')\n",
    "\n",
    "def func2(name, sleepTime):\n",
    "    print(f'func2 started with {name}')\n",
    "    time.sleep(sleepTime)\n",
    "    print('func2 ended')\n",
    "\n",
    "if __name__ == '__main__':\n",
    "    time1 = time.time()\n",
    "    print('main started')\n",
    "    threadA = threading.Thread(target=func1, args=['ABC'])\n",
    "    threadA.start()\n",
    "    threadA.join()\n",
    "    runTime = time.time() - time1\n",
    "    print(f\"main ended in {round(runTime, 4)} sec\")\n"
   ],
   "outputs": [],
   "cell_type": "code",
   "metadata": {
    "collapsed": false
   }
  },
  {
   "metadata": {
    "collapsed": false
   },
   "cell_type": "markdown",
   "source": [
    "**RACE CONDITIONS**\n",
    "\n",
    "Introducing concurrency via threads can substantially decrease runtimes. Consider the code given below (Code Block 03), this code assigns an initial value of 0 to the variable `shared_counter`. This variable is updated twice by sequential application of the `increment` function. A small delay is added inside the increment function to simulate delays resulting from compute or IO operations.\n",
    "\n",
    "\n",
    "We can use concurrency to enhance speed, however, we must proceed with **caution** as introducing threads also introduces complexity as we shall see next\n",
    "\n",
    "\n",
    "**Code Block 03**\n"
   ]
  },
  {
   "execution_count": 8,
   "source": [
    "import time\n",
    "# define global counter\n",
    "shared_counter = 0\n",
    "\n",
    "# increment shared_counter\n",
    "def increment(nOperations):\n",
    "\n",
    "    global shared_counter\n",
    "\n",
    "    local_counter = shared_counter  #start from current value of shared_counter\n",
    "\n",
    "    for _ in range(nOperations):\n",
    "        local_counter += 1\n",
    "\n",
    "    print(f'Local Counter: {local_counter}')\n",
    "    time.sleep(0.5)\n",
    "    shared_counter = local_counter\n",
    "\n",
    "if __name__ == '__main__':\n",
    "    time1 = time.time()\n",
    "    print('main started')\n",
    "\n",
    "    increment(100) # Increment 100 times\n",
    "    increment(200) # Increment 200 times\n",
    "\n",
    "    # Print value of shared_counter\n",
    "    print(f'Shared Counter: {shared_counter}')\n",
    "    runTime = time.time() - time1\n",
    "    print(f\"main ended in {round(runTime, 4)} sec\")\n"
   ],
   "outputs": [
    {
     "name": "stdout",
     "output_type": "stream",
     "text": [
      "main started\n",
      "Local Counter: 100\n",
      "Local Counter: 300\n",
      "Shared Counter: 300\n",
      "main ended in 1.0006 sec\n"
     ]
    }
   ],
   "cell_type": "code",
   "metadata": {
    "collapsed": false,
    "ExecuteTime": {
     "end_time": "2024-03-04T13:38:54.364128595Z",
     "start_time": "2024-03-04T13:38:53.360493519Z"
    }
   }
  },
  {
   "metadata": {
    "collapsed": false
   },
   "cell_type": "markdown",
   "source": [
    "**Task 7.3**\n",
    "Introducing concurrency via threads can substantially decrease runtimes. However, it can also introduce bugs if there is no coordination between multiple threads. Race conditions occur when multiple threads have access to the same data. Code Block 04 (below) is a multithrearded version of Code Block 03.\n",
    "\n",
    "\n",
    "\n",
    "1.   Run Code Block 04 multiple times and note the value of `shared_counter`. Its correct value should be 300, however, the observed values are different.\n",
    "2.   **Review Quiz Q2**: Why is `shared_counter` sometimes equal to 100 and sometimes 200 instead of 300?\n",
    "3.   Uncomment the commands on lines 12, 25, and 29 and see if you get the correct result.\n",
    "3. **Review Quiz Q3**: What do you think is the purpose of the commands on lines 12, 25, and 29? Feel free to use online resources to find the answer.\n",
    "\n",
    "\n",
    "\n",
    "**Code Block 04**\n"
   ]
  },
  {
   "execution_count": 33,
   "source": [
    "import threading\n",
    "import time\n",
    "\n",
    "# define global counter to be shared by multiple threads\n",
    "shared_counter = 0\n",
    "\n",
    "# thread based operations on shared_counter\n",
    "def increment(nOperations):\n",
    "\n",
    "    global shared_counter\n",
    "\n",
    "    lock.acquire()\n",
    "\n",
    "    local_counter = shared_counter  #start from current value of shared_counter\n",
    "\n",
    "    for _ in range(nOperations):\n",
    "        local_counter += 1\n",
    "\n",
    "    time.sleep(0.1)\n",
    "\n",
    "    print(f'Local Counter: {local_counter}')\n",
    "\n",
    "    shared_counter = local_counter\n",
    "\n",
    "    lock.release()\n",
    "\n",
    "if __name__ == '__main__':\n",
    "\n",
    "    lock = threading.Lock()\n",
    "\n",
    "    # Thread1 increment 100 times\n",
    "    thread1 = threading.Thread(target=increment, args=[100])\n",
    "    thread1.start()\n",
    "\n",
    "    # Thread2 increment 200 times\n",
    "    thread2 = threading.Thread(target=increment, args=[200])\n",
    "    thread2.start()\n",
    "\n",
    "    thread1.join()\n",
    "    thread2.join()\n",
    "\n",
    "    # Print value of shared_counter\n",
    "    print(f'Shared Counter: {shared_counter}')\n"
   ],
   "outputs": [
    {
     "name": "stdout",
     "output_type": "stream",
     "text": [
      "Local Counter: 100\n",
      "Local Counter: 300\n",
      "Shared Counter: 300\n"
     ]
    }
   ],
   "cell_type": "code",
   "metadata": {
    "collapsed": false,
    "ExecuteTime": {
     "end_time": "2024-03-04T13:42:42.126057053Z",
     "start_time": "2024-03-04T13:42:41.921015049Z"
    }
   }
  },
  {
   "metadata": {
    "collapsed": false
   },
   "cell_type": "markdown",
   "source": [
    "**MULTIPROCESSING**\n",
    "\n",
    "\n",
    "*   CPU-bound (or Compute-bound) tasks consist of large numerical tasks e.g; large matrix calculations, many image processing and graphics operations.\n",
    "*   If such tasks can be broken into indepedent tasks, then we can run them in parallel on different CPUs.\n",
    "*   Python's `multiprocessing` package allows us to run tasks in parallel over multiple CPUs. You can find the number of CPUs available using the commands below.\n",
    "\n"
   ]
  },
  {
   "execution_count": 34,
   "source": [
    "#find number of CPUs\n",
    "import multiprocessing\n",
    "n_cpus = multiprocessing.cpu_count()\n",
    "print(f'Number of CPUs avaialble: {n_cpus}')\n"
   ],
   "outputs": [
    {
     "name": "stdout",
     "output_type": "stream",
     "text": [
      "Number of CPUs avaialble: 16\n"
     ]
    }
   ],
   "cell_type": "code",
   "metadata": {
    "collapsed": false,
    "ExecuteTime": {
     "end_time": "2024-03-04T13:43:41.951893090Z",
     "start_time": "2024-03-04T13:43:41.910898502Z"
    }
   }
  },
  {
   "metadata": {
    "collapsed": false
   },
   "cell_type": "markdown",
   "source": [
    "If you're running this in a free Google Colab account then you should have\n",
    "2 CPUs. If you're running this in Python on your own laptop (outside Colab) then the number of CPUs may be greater.\n",
    "\n",
    "**Task 7.4**\n",
    "\n",
    "\n",
    "*   Run the programmes in Code Blocks 5a and 5b and observe the output.\n",
    "*   Both programmes take a few seconds to complete so you will need to wait a few seconds for the outputs.\n",
    "*   Which programme executes faster?\n",
    "*   Read the comments in both programmes and try to understand how each programme works.\n",
    "\n"
   ]
  },
  {
   "metadata": {
    "collapsed": false
   },
   "cell_type": "markdown",
   "source": [
    "**Code Block 5a Sequential Processing**\n"
   ]
  },
  {
   "execution_count": 63,
   "source": [
    "# Sequential Matrix Multiplication\n",
    "# Runs two Matrix Multiplication tasks in sequence on 1 CPU\n",
    "import multiprocessing\n",
    "import time\n",
    "import numpy as np\n",
    "\n",
    "def prod_func1(rowcols):\n",
    "    m1 = np.random.randint(0, 20, (rowcols, rowcols)) #create square matrix of random ints\n",
    "    m2 = np.random.randint(0, 20, (rowcols, rowcols)) #create square matrix of random ints\n",
    "    m3 = np.matmul(m1, m2)    #multiply m1 and m2\n",
    "    process_time = 5                   #synthetic delay\n",
    "    time.sleep(process_time)\n",
    "    pid = multiprocessing.current_process().pid  #get process ID\n",
    "    print(f\"Process-{pid} Done!\")\n",
    "\n",
    "def main():\n",
    "    time1 = time.time()\n",
    "    rowcols = 100\n",
    "\n",
    "    prod_func1(rowcols)\n",
    "    prod_func1(rowcols)\n",
    "\n",
    "    runTime = time.time() - time1\n",
    "    print(f\"main ended in {round(runTime, 4)} sec\")\n",
    "\n",
    "if __name__ == \"__main__\":\n",
    "    main()\n"
   ],
   "outputs": [
    {
     "name": "stdout",
     "output_type": "stream",
     "text": [
      "Process-9905 Done!\n",
      "Process-9905 Done!\n",
      "main ended in 10.0043 sec\n"
     ]
    }
   ],
   "cell_type": "code",
   "metadata": {
    "collapsed": false,
    "ExecuteTime": {
     "end_time": "2024-03-04T14:00:36.181815305Z",
     "start_time": "2024-03-04T14:00:26.176417680Z"
    }
   }
  },
  {
   "metadata": {
    "collapsed": false
   },
   "cell_type": "markdown",
   "source": [
    "**Code Block 5b Parallel Processing**\n"
   ]
  },
  {
   "execution_count": 64,
   "source": [
    "# Parallel Matrix Multiplication\n",
    "# Runs two Matrix Multiplication tasks in parallel on 2 CPUs\n",
    "import multiprocessing\n",
    "import numpy as np\n",
    "import time\n",
    "\n",
    "def prod_func2(rowcols):\n",
    "    m1 = np.random.randint(0, 20, (rowcols, rowcols))  #create square matrix of random ints\n",
    "    m2 = np.random.randint(0, 20, (rowcols, rowcols))  #create square matrix of random ints\n",
    "    m3 = np.matmul(m1, m2)      #multiply m1 and m2\n",
    "    process_time = 5        #synthetic delay\n",
    "    time.sleep(process_time)\n",
    "    pid = multiprocessing.current_process().pid  #get process ID\n",
    "    print(f\"\\nProcess-{pid} Done!\\n\")\n",
    "\n",
    "def main():\n",
    "    time1 = time.time()\n",
    "    rowcols = 100\n",
    "    pool = multiprocessing.Pool(multiprocessing.cpu_count())\n",
    "    print(f\"Available CPUs: {multiprocessing.cpu_count()}\")\n",
    "    argsList = [rowcols, rowcols]\n",
    "    pool.map(prod_func2, argsList) #apply prod_func2 (in parallel) to elements in argsList\n",
    "\n",
    "    runTime = time.time() - time1\n",
    "    print(f\"main ended in {round(runTime, 4)} sec\")\n",
    "\n",
    "if __name__ == \"__main__\":\n",
    "    main()\n",
    "\n"
   ],
   "outputs": [
    {
     "name": "stdout",
     "output_type": "stream",
     "text": [
      "Available CPUs: 16\n",
      "\n",
      "Process-11302 Done!\n",
      "\n",
      "Process-11303 Done!\n",
      "\n",
      "\n",
      "main ended in 5.1032 sec\n"
     ]
    }
   ],
   "cell_type": "code",
   "metadata": {
    "collapsed": false,
    "ExecuteTime": {
     "end_time": "2024-03-04T14:00:47.285049104Z",
     "start_time": "2024-03-04T14:00:42.167418693Z"
    }
   }
  },
  {
   "cell_type": "markdown",
   "source": [
    "time | 10      | 8       | 5       |\n",
    "5a   | 20.0052 | 16.0052 | 10.0046 |\n",
    "5b   | 10.1077 |  8.1090 |  5.1070 |"
   ],
   "metadata": {
    "collapsed": false
   }
  },
  {
   "metadata": {
    "collapsed": false
   },
   "cell_type": "markdown",
   "source": [
    "**Task 7.5**\n",
    "\n",
    "\n",
    "\n",
    "\n",
    "1.   Run the programme in Code Blocks 5a five times and note down the total runtime that you see. Take the average of your 5 readings.\n",
    "2.   Run the programme in Code Blocks 5b five times and note down the total runtime that you see. Take the average of your 5 readings.\n",
    "3.   Repeat step-1 and step-2 for the following values `process_time = 5, 8, and 10`.\n",
    "4.   **Review Quiz Q4** Plot your results using your favourite plotting/graphing tool and comment on your results.\n"
   ]
  },
  {
   "cell_type": "code",
   "outputs": [
    {
     "data": {
      "text/plain": "<Figure size 640x480 with 1 Axes>",
      "image/png": "[encoded data removed]"
     },
     "metadata": {},
     "output_type": "display_data"
    }
   ],
   "source": [
    "import matplotlib.pyplot as plt\n",
    "\n",
    "t = [5, 8, 10]\n",
    "a = [10.0046, 16.0052, 20.0052]\n",
    "b = [5.1070, 8.1090, 10.1077]\n",
    "\n",
    "fig, ax = plt.subplots()\n",
    "ax.plot(t, a, label=\"Sequential\")\n",
    "ax.plot(t, b, label=\"Concurrent\")\n",
    "\n",
    "plt.show()\n"
   ],
   "metadata": {
    "collapsed": false,
    "ExecuteTime": {
     "end_time": "2024-03-04T14:07:34.992760554Z",
     "start_time": "2024-03-04T14:07:34.217462172Z"
    }
   },
   "execution_count": 65
  },
  {
   "metadata": {
    "collapsed": false
   },
   "cell_type": "markdown",
   "source": [
    "**Task 7.6**\n",
    "\n",
    "\n",
    "1.   The figure below shows the total runtime I observed when `process_time` is reduced to much lower values.\n",
    "2.   **Review Quiz Q5**: Comment on why the parallel programme become slower compared to the sequential programme at smaller values of `process_time`?\n",
    "\n"
   ]
  },
  {
   "metadata": {
    "collapsed": false
   },
   "cell_type": "markdown",
   "source": [
    "![Plot_Task6-5.png](data:image/png;base64,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)\n"
   ]
  }
 ]
}

{
 "nbformat": 4,
 "nbformat_minor": 0,
 "metadata": {
  "colab": {
   "provenance": []
  },
  "kernelspec": {
   "name": "python3",
   "language": "python",
   "display_name": "Python 3 (ipykernel)"
  },
  "language_info": {
   "name": "python"
  },
  "gpuClass": "standard"
 },
 "cells": [
  {
   "cell_type": "markdown",
   "source": [
    "**CONCURRENCY IN PYTHON PART-2**\n",
    "**Learning Outcomes**\n",
    "\n",
    "\n",
    "1.   Managing threads using ThreadPoolExecutor\n",
    "2.   Concurrent Tasks using `asyncio`   \n",
    "\n"
   ],
   "metadata": {
    "id": "-SBQ0e3RO1bk"
   }
  },
  {
   "cell_type": "markdown",
   "source": [
    "\n",
    "\n",
    "*   Turn one line numbers in code blocks by going to Tools -> Settings -> Editor -> **show line numbers**.\n",
    "*   We will start with individual threads as we did during last week's lab.\n",
    "*   The code below contains 3 threads, the main thread and threads 'ABC' and 'DEF'.\n",
    "*   The main thread is made to wait for threads 'ABC' and 'DEF' using the `join` function."
   ],
   "metadata": {
    "id": "Ghhyh1AhUdJI"
   }
  },
  {
   "cell_type": "markdown",
   "source": [
    "**Code Block 01**"
   ],
   "metadata": {
    "id": "cG37dZ31kIsO"
   }
  },
  {
   "cell_type": "code",
   "source": [
    "import time\n",
    "import threading\n",
    "\n",
    "def testfunc(name, sleepTime):\n",
    "  print(f'testfunc-{name} started')\n",
    "  time.sleep(sleepTime)\n",
    "  print(f'testfunc-{name} ended')\n",
    "\n",
    "if __name__ == '__main__':\n",
    "  time1 = time.time()\n",
    "  print('main started')\n",
    "  threadA = threading.Thread(target=testfunc, args=['ABC', 2])\n",
    "  threadB = threading.Thread(target=testfunc, args=['DEF', 2])\n",
    "  threadA.start()\n",
    "  threadB.start()\n",
    "  threadA.join()\n",
    "  threadB.join()\n",
    "  runTime = time.time() - time1\n",
    "  print(f\"main ended in {round(runTime, 4)} sec\")"
   ],
   "metadata": {
    "id": "nfHAaifxj8jO",
    "colab": {
     "base_uri": "https://localhost:8080/"
    },
    "outputId": "4be09e62-94b4-434e-a387-929912a939ce"
   },
   "execution_count": null,
   "outputs": [
    {
     "output_type": "stream",
     "name": "stdout",
     "text": [
      "main started\n",
      "testfunc-ABC started\n",
      "testfunc-DEF started\n",
      "testfunc-ABC ended\n",
      "testfunc-DEF ended\n",
      "main ended in 2.0053 sec\n"
     ]
    }
   ]
  },
  {
   "cell_type": "markdown",
   "source": [
    "**ThreadPoolExecutor**\n",
    "If fine-grained control of threads is not needed, then thread management can often be delegated to Python's `ThreadPoolExecutor` class as shown below. Code block-02 uses the uses `ThreadPoolExecutor` to run testfunc on two separate threads named 'ABC' and 'DEF'.\n",
    "\n",
    "**Code Block 02**"
   ],
   "metadata": {
    "id": "pDd_-6lJnNSy"
   }
  },
  {
   "cell_type": "code",
   "source": [
    "import time\n",
    "import threading\n",
    "import concurrent.futures\n",
    "\n",
    "def testfunc(name, sleepTime):\n",
    "    time1 = time.time()\n",
    "    print(f'testfunc-{name} started')\n",
    "    time.sleep(sleepTime)\n",
    "    print(f'testfunc-{name} ended in {time.time() - time1 : .4f}')\n",
    "\n",
    "if __name__ == '__main__':\n",
    "    time1 = time.time()\n",
    "    print('main started')\n",
    "    names_list = ['ABC','DEF', 'GHI']\n",
    "    sleeptimes_list = [2, 2, 5]\n",
    "    with concurrent.futures.ThreadPoolExecutor(max_workers=2) as executor:\n",
    "        executor.map(testfunc, names_list, sleeptimes_list)\n",
    "    runTime = time.time() - time1\n",
    "    print(f\"main ended in {round(runTime, 4)} sec\")"
   ],
   "metadata": {
    "colab": {
     "base_uri": "https://localhost:8080/"
    },
    "id": "Cpy74U1vnUU2",
    "outputId": "9322e746-94c9-44d0-eb7c-86c381d424db",
    "ExecuteTime": {
     "end_time": "2024-03-11T13:06:56.771425Z",
     "start_time": "2024-03-11T13:06:49.764543Z"
    }
   },
   "execution_count": 3,
   "outputs": [
    {
     "name": "stdout",
     "output_type": "stream",
     "text": [
      "main started\n",
      "testfunc-ABC started\n",
      "testfunc-DEF started\n",
      "testfunc-ABC ended in  2.0001\n",
      "testfunc-GHI started\n",
      "testfunc-DEF ended in  2.0001\n",
      "testfunc-GHI ended in  5.0001\n",
      "main ended in 7.0019 sec\n"
     ]
    }
   ]
  },
  {
   "cell_type": "markdown",
   "source": [
    "**Task 8.1**\n",
    "Modify `testfunc` in code block 02 to print its runtime and answer **Review Quiz Q1** related to this task. Your output should be as below:\n",
    "\n",
    "\n",
    "\n",
    "> main started\n",
    "\n",
    "> testfunc-ABC started\n",
    "\n",
    "> testfunc-DEF started\n",
    "\n",
    "> testfunc-ABC ended in 2.0035\n",
    "\n",
    "> testfunc-DEF ended in 2.0029\n",
    "\n",
    "> main ended in 2.0067 sec\n",
    "\n"
   ],
   "metadata": {
    "id": "9czo5xj1io5z"
   }
  },
  {
   "cell_type": "markdown",
   "source": [
    "**Review Quiz Q1** Copy-paste your `testfunc()` after completing task 8.1"
   ],
   "metadata": {
    "id": "tHzzTSXhkQ_-"
   }
  },
  {
   "cell_type": "markdown",
   "source": [
    "**Task 8.2**\n",
    "\n",
    "\n",
    "1.   Modify code block 02 to add a third thread named 'GHI' with `sleeptime` equal to 5. DO NOT make any changes to the existing `ThreadPoolExecutor` and its input parameters.\n",
    "2.   Do some thinking about how the runtime can be reduced to less than 7 sec.\n",
    "3.  Answer **Review Quiz Q2** related to this task.\n",
    "\n"
   ],
   "metadata": {
    "id": "GrUf0OPVkVAu"
   }
  },
  {
   "cell_type": "markdown",
   "source": [
    "**Review Quiz Q2**\n",
    "\n",
    "Copy-Paste your code after completing task 8.2"
   ],
   "metadata": {
    "id": "AF8OzT6smvpk"
   }
  },
  {
   "cell_type": "markdown",
   "source": [
    "**Review Quiz Q3**\n",
    "\n",
    "Why is the total runtime 7 sec instead of 5 sec? Is there anyway we can reduce it to 5 sec?"
   ],
   "metadata": {
    "id": "V5xzEZSIAjZP"
   }
  },
  {
   "cell_type": "markdown",
   "source": [
    "**Task 8.3**\n",
    "\n",
    "`asyncio` is another library in Python that can be used for thread management. The executor class uses the `ThreadPoolExecutor` to manage threads. `asyncio` employs an \"Event Loop\" to manage threads. Strictly speaking, `asyncio` uses the term 'Task' instead of 'Thread' for reasons that we will not delve into. The main feature that differentiates `asyncio` from `ThreadPoolExecutor` is that individual tasks in `asyncio` return control back the event loop only when they are willing to do so. This means that a task is in complete control of resources when it's running and is not interrupted during an operation. This setup makes resource sharing easier (compared to `threading`) and we do not have to worry about making things thread-safe.\n",
    "\n",
    "Install the packages needed for `asyncio` using the commands below."
   ],
   "metadata": {
    "id": "xQtfmSkGwRpY"
   }
  },
  {
   "cell_type": "code",
   "source": [
    "pip install asyncio"
   ],
   "metadata": {
    "colab": {
     "base_uri": "https://localhost:8080/",
     "height": 200
    },
    "id": "xNaqYzBpz3c2",
    "outputId": "7fff83bf-b0d0-4d26-efec-ad0767a2ddbb"
   },
   "execution_count": null,
   "outputs": [
    {
     "output_type": "stream",
     "name": "stdout",
     "text": [
      "Collecting asyncio\n",
      "  Downloading asyncio-3.4.3-py3-none-any.whl (101 kB)\n",
      "\u001B[2K     \u001B[90m━━━━━━━━━━━━━━━━━━━━━━━━━━━━━━━━━━━━━━━━\u001B[0m \u001B[32m101.8/101.8 kB\u001B[0m \u001B[31m2.0 MB/s\u001B[0m eta \u001B[36m0:00:00\u001B[0m\n",
      "\u001B[?25hInstalling collected packages: asyncio\n",
      "Successfully installed asyncio-3.4.3\n"
     ]
    },
    {
     "output_type": "display_data",
     "data": {
      "application/vnd.colab-display-data+json": {
       "pip_warning": {
        "packages": [
         "asyncio"
        ]
       },
       "id": "0033514f014644188b72c992f5e4f405"
      }
     },
     "metadata": {}
    }
   ]
  },
  {
   "cell_type": "code",
   "source": [
    "pip install nest_asyncio"
   ],
   "metadata": {
    "colab": {
     "base_uri": "https://localhost:8080/"
    },
    "id": "8EjyI6QskAAM",
    "outputId": "bf81c418-60e5-4caa-8494-459dc3953938"
   },
   "execution_count": null,
   "outputs": [
    {
     "output_type": "stream",
     "name": "stdout",
     "text": [
      "Requirement already satisfied: nest_asyncio in /usr/local/lib/python3.10/dist-packages (1.6.0)\n"
     ]
    }
   ]
  },
  {
   "cell_type": "markdown",
   "source": [
    "**Task 8.4**\n",
    "`asyncio` uses the `asyn` and `await` keywords to indicate asynchronous tasks.\n",
    "The `await` keyword can be thought of as something that enables a task to hand control back to the event loop. The `async` keyword must be added before the names of any functions that use `await`.\n",
    "\n",
    "The `asyncio` based implementation of the code block 02 is shown below\n",
    "\n",
    "**Code Block 03**"
   ],
   "metadata": {
    "id": "uD46-tki4GnB"
   }
  },
  {
   "cell_type": "code",
   "source": [
    "import asyncio\n",
    "import nest_asyncio\n",
    "import time\n",
    "\n",
    "async def testfunc(name, sleeptime):\n",
    "    print(f'testfunc-{name} started')\n",
    "    await asyncio.sleep(sleeptime) #note this is asyncio.sleep not time.sleep()\n",
    "    print(f'testfunc-{name} ended')\n",
    "\n",
    "async def main():\n",
    "    await asyncio.gather(testfunc('ABC', 2), testfunc('DEF', 2))\n",
    "\n",
    "if __name__ == \"__main__\":\n",
    "    import time\n",
    "    time1 = time.time()\n",
    "    nest_asyncio.apply()\n",
    "    asyncio.run(main())\n",
    "    runtime = time.time() - time1\n",
    "    print(f\"main executed in {runtime:0.2f} seconds.\")"
   ],
   "metadata": {
    "colab": {
     "base_uri": "https://localhost:8080/"
    },
    "id": "0a16o5_V0fcw",
    "outputId": "83254e67-5187-47dc-ec79-9cb40831ef86"
   },
   "execution_count": null,
   "outputs": [
    {
     "output_type": "stream",
     "name": "stdout",
     "text": [
      "testfunc-ABC started\n",
      "testfunc-DEF started\n",
      "testfunc-ABC ended\n",
      "testfunc-DEF ended\n",
      "main executed in 2.00 seconds.\n"
     ]
    }
   ]
  },
  {
   "cell_type": "markdown",
   "source": [
    "If you have a large number of concurrent tasks, then its better to create a list (or iterable) containing all your tasks and looping through them to create a tasks (or jobs) list that can be run asynchronously. An example is give below. Note the differences between the main function below and the main in code block 03. It may look like you are adding extra code however, it is needed when the number of tasks is large.\n",
    "\n",
    "**Code Block 04**"
   ],
   "metadata": {
    "id": "pNVGzjC32c7O"
   }
  },
  {
   "cell_type": "code",
   "source": [
    "import asyncio\n",
    "import nest_asyncio\n",
    "import time\n",
    "\n",
    "async def testfunc(name, sleeptime):\n",
    "    print(f'testfunc-{name} started')\n",
    "    await asyncio.sleep(sleeptime) #note this is asyncio.sleep not time.sleep()\n",
    "    print(f'testfunc-{name} ended')\n",
    "\n",
    "async def main():\n",
    "    names_list = ['ABC', 'DEF', 'GHI']\n",
    "    sleeptime_list = [2, 2, 5]\n",
    "    jobs = []\n",
    "    for name, sleeptime in zip(names_list, sleeptime_list):   #zip allow us to iterate both lists simultaneously\n",
    "      job = asyncio.ensure_future(testfunc(name, sleeptime))\n",
    "      jobs.append(job)\n",
    "    await asyncio.gather(*jobs, return_exceptions=True)\n",
    "\n",
    "if __name__ == \"__main__\":\n",
    "    import time\n",
    "    time1 = time.time()\n",
    "    nest_asyncio.apply()\n",
    "    asyncio.run(main())\n",
    "    runtime = time.time() - time1\n",
    "    print(f\"main executed in {runtime:0.2f} seconds.\")"
   ],
   "metadata": {
    "colab": {
     "base_uri": "https://localhost:8080/"
    },
    "id": "-SMSufDZjzd7",
    "outputId": "347e3253-8b8b-46ac-f137-29de2b815989",
    "ExecuteTime": {
     "end_time": "2024-03-11T13:11:22.262961Z",
     "start_time": "2024-03-11T13:11:17.251786Z"
    }
   },
   "execution_count": 4,
   "outputs": [
    {
     "name": "stdout",
     "output_type": "stream",
     "text": [
      "testfunc-ABC started\n",
      "testfunc-DEF started\n",
      "testfunc-GHI started\n",
      "testfunc-ABC ended\n",
      "testfunc-DEF ended\n",
      "testfunc-GHI ended\n",
      "main executed in 5.00 seconds.\n"
     ]
    }
   ]
  },
  {
   "cell_type": "markdown",
   "source": [
    "**Task 8.5**\n",
    "\n",
    "*   Modify code block 04 to add a third task named 'GHI' with `sleeptime` equal to 5\n",
    "*   Answer **Review Quiz Q4** related to this task.\n",
    "\n"
   ],
   "metadata": {
    "id": "40g2n4CI3EMv"
   }
  },
  {
   "cell_type": "markdown",
   "source": [
    "**Review Quiz Q4** Copy-paste your `main()` function after completing task 8.5"
   ],
   "metadata": {
    "id": "e6IGOjGP4iAU"
   }
  },
  {
   "cell_type": "markdown",
   "source": [
    "**Task 8.6 Sequential Web Downloads**\n",
    "\n",
    "The code below downloads 120 webpages in a sequential manner. Run code block 05 and examine the runtime.\n",
    "\n",
    "**Code Block 05**"
   ],
   "metadata": {
    "id": "ZhfAH9KU7lhX"
   }
  },
  {
   "cell_type": "code",
   "source": [
    "import requests\n",
    "import time\n",
    "\n",
    "\n",
    "def get_site(url, session):\n",
    "    with session.get(url) as response:\n",
    "        print(f\"Read {len(response.content)} from {url}\")\n",
    "\n",
    "\n",
    "def get_all_sites(sites):\n",
    "    with requests.Session() as session:\n",
    "        for url in sites:\n",
    "            get_site(url, session)\n",
    "\n",
    "\n",
    "if __name__ == \"__main__\":\n",
    "    sites = [\n",
    "        \"https://www.jython.org\",\n",
    "        \"https://en.wikipedia.org/wiki/Small\",\n",
    "    ] * 60\n",
    "    time1 = time.time()\n",
    "    get_all_sites(sites)\n",
    "    runtime = time.time() - time1\n",
    "    print(f\"Downloaded {len(sites)} in {runtime} seconds\")"
   ],
   "metadata": {
    "id": "bh7-cftxPXtY",
    "ExecuteTime": {
     "end_time": "2024-03-11T13:12:03.844754Z",
     "start_time": "2024-03-11T13:11:56.187548Z"
    }
   },
   "execution_count": 5,
   "outputs": [
    {
     "name": "stdout",
     "output_type": "stream",
     "text": [
      "Read 10783 from https://www.jython.org\n",
      "Read 51146 from https://en.wikipedia.org/wiki/Small\n",
      "Read 10783 from https://www.jython.org\n",
      "Read 51146 from https://en.wikipedia.org/wiki/Small\n",
      "Read 10783 from https://www.jython.org\n",
      "Read 51146 from https://en.wikipedia.org/wiki/Small\n",
      "Read 10783 from https://www.jython.org\n",
      "Read 51146 from https://en.wikipedia.org/wiki/Small\n",
      "Read 10783 from https://www.jython.org\n",
      "Read 51146 from https://en.wikipedia.org/wiki/Small\n",
      "Read 10783 from https://www.jython.org\n",
      "Read 51146 from https://en.wikipedia.org/wiki/Small\n",
      "Read 10783 from https://www.jython.org\n",
      "Read 51146 from https://en.wikipedia.org/wiki/Small\n",
      "Read 10783 from https://www.jython.org\n",
      "Read 51146 from https://en.wikipedia.org/wiki/Small\n",
      "Read 10783 from https://www.jython.org\n",
      "Read 51146 from https://en.wikipedia.org/wiki/Small\n",
      "Read 10783 from https://www.jython.org\n",
      "Read 51146 from https://en.wikipedia.org/wiki/Small\n",
      "Read 10783 from https://www.jython.org\n",
      "Read 51146 from https://en.wikipedia.org/wiki/Small\n",
      "Read 10783 from https://www.jython.org\n",
      "Read 51146 from https://en.wikipedia.org/wiki/Small\n",
      "Read 10783 from https://www.jython.org\n",
      "Read 51146 from https://en.wikipedia.org/wiki/Small\n",
      "Read 10783 from https://www.jython.org\n",
      "Read 51146 from https://en.wikipedia.org/wiki/Small\n",
      "Read 10783 from https://www.jython.org\n",
      "Read 51146 from https://en.wikipedia.org/wiki/Small\n",
      "Read 10783 from https://www.jython.org\n",
      "Read 51146 from https://en.wikipedia.org/wiki/Small\n",
      "Read 10783 from https://www.jython.org\n",
      "Read 51146 from https://en.wikipedia.org/wiki/Small\n",
      "Read 10783 from https://www.jython.org\n",
      "Read 51146 from https://en.wikipedia.org/wiki/Small\n",
      "Read 10783 from https://www.jython.org\n",
      "Read 51146 from https://en.wikipedia.org/wiki/Small\n",
      "Read 10783 from https://www.jython.org\n",
      "Read 51146 from https://en.wikipedia.org/wiki/Small\n",
      "Read 10783 from https://www.jython.org\n",
      "Read 51146 from https://en.wikipedia.org/wiki/Small\n",
      "Read 10783 from https://www.jython.org\n",
      "Read 51146 from https://en.wikipedia.org/wiki/Small\n",
      "Read 10783 from https://www.jython.org\n",
      "Read 51146 from https://en.wikipedia.org/wiki/Small\n",
      "Read 10783 from https://www.jython.org\n",
      "Read 51146 from https://en.wikipedia.org/wiki/Small\n",
      "Read 10783 from https://www.jython.org\n",
      "Read 51146 from https://en.wikipedia.org/wiki/Small\n",
      "Read 10783 from https://www.jython.org\n",
      "Read 51146 from https://en.wikipedia.org/wiki/Small\n",
      "Read 10783 from https://www.jython.org\n",
      "Read 51146 from https://en.wikipedia.org/wiki/Small\n",
      "Read 10783 from https://www.jython.org\n",
      "Read 51146 from https://en.wikipedia.org/wiki/Small\n",
      "Read 10783 from https://www.jython.org\n",
      "Read 51146 from https://en.wikipedia.org/wiki/Small\n",
      "Read 10783 from https://www.jython.org\n",
      "Read 51146 from https://en.wikipedia.org/wiki/Small\n",
      "Read 10783 from https://www.jython.org\n",
      "Read 51146 from https://en.wikipedia.org/wiki/Small\n",
      "Read 10783 from https://www.jython.org\n",
      "Read 51146 from https://en.wikipedia.org/wiki/Small\n",
      "Read 10783 from https://www.jython.org\n",
      "Read 51146 from https://en.wikipedia.org/wiki/Small\n",
      "Read 10783 from https://www.jython.org\n",
      "Read 51146 from https://en.wikipedia.org/wiki/Small\n",
      "Read 10783 from https://www.jython.org\n",
      "Read 51146 from https://en.wikipedia.org/wiki/Small\n",
      "Read 10783 from https://www.jython.org\n",
      "Read 51146 from https://en.wikipedia.org/wiki/Small\n",
      "Read 10783 from https://www.jython.org\n",
      "Read 51146 from https://en.wikipedia.org/wiki/Small\n",
      "Read 10783 from https://www.jython.org\n",
      "Read 51146 from https://en.wikipedia.org/wiki/Small\n",
      "Read 10783 from https://www.jython.org\n",
      "Read 51146 from https://en.wikipedia.org/wiki/Small\n",
      "Read 10783 from https://www.jython.org\n",
      "Read 51146 from https://en.wikipedia.org/wiki/Small\n",
      "Read 10783 from https://www.jython.org\n",
      "Read 51146 from https://en.wikipedia.org/wiki/Small\n",
      "Read 10783 from https://www.jython.org\n",
      "Read 51146 from https://en.wikipedia.org/wiki/Small\n",
      "Read 10783 from https://www.jython.org\n",
      "Read 51146 from https://en.wikipedia.org/wiki/Small\n",
      "Read 10783 from https://www.jython.org\n",
      "Read 51146 from https://en.wikipedia.org/wiki/Small\n",
      "Read 10783 from https://www.jython.org\n",
      "Read 51146 from https://en.wikipedia.org/wiki/Small\n",
      "Read 10783 from https://www.jython.org\n",
      "Read 51146 from https://en.wikipedia.org/wiki/Small\n",
      "Read 10783 from https://www.jython.org\n",
      "Read 51146 from https://en.wikipedia.org/wiki/Small\n",
      "Read 10783 from https://www.jython.org\n",
      "Read 51146 from https://en.wikipedia.org/wiki/Small\n",
      "Read 10783 from https://www.jython.org\n",
      "Read 51146 from https://en.wikipedia.org/wiki/Small\n",
      "Read 10783 from https://www.jython.org\n",
      "Read 51146 from https://en.wikipedia.org/wiki/Small\n",
      "Read 10783 from https://www.jython.org\n",
      "Read 51146 from https://en.wikipedia.org/wiki/Small\n",
      "Read 10783 from https://www.jython.org\n",
      "Read 51146 from https://en.wikipedia.org/wiki/Small\n",
      "Read 10783 from https://www.jython.org\n",
      "Read 51146 from https://en.wikipedia.org/wiki/Small\n",
      "Read 10783 from https://www.jython.org\n",
      "Read 51146 from https://en.wikipedia.org/wiki/Small\n",
      "Read 10783 from https://www.jython.org\n",
      "Read 51146 from https://en.wikipedia.org/wiki/Small\n",
      "Read 10783 from https://www.jython.org\n",
      "Read 51146 from https://en.wikipedia.org/wiki/Small\n",
      "Read 10783 from https://www.jython.org\n",
      "Read 51146 from https://en.wikipedia.org/wiki/Small\n",
      "Read 10783 from https://www.jython.org\n",
      "Read 51146 from https://en.wikipedia.org/wiki/Small\n",
      "Read 10783 from https://www.jython.org\n",
      "Read 51146 from https://en.wikipedia.org/wiki/Small\n",
      "Read 10783 from https://www.jython.org\n",
      "Read 51146 from https://en.wikipedia.org/wiki/Small\n",
      "Downloaded 120 in 7.592014789581299 seconds\n"
     ]
    }
   ]
  },
  {
   "cell_type": "markdown",
   "source": [
    "**Task 8.7 Threading based Web Downloads**\n",
    "\n",
    "Web downloads are a good example of IO-bound load and can be run concurrently using `threading` and `ThreadPoolExecutor` as shown in code block 06. Run code block 06 and compare the runtime with that of code block 05. You should observe a reduction in runtime.\n",
    "\n",
    "**Code Block 06**"
   ],
   "metadata": {
    "id": "TAkMcc1E7_lx"
   }
  },
  {
   "cell_type": "code",
   "source": [
    "import concurrent.futures\n",
    "import requests\n",
    "import threading\n",
    "import time\n",
    "\n",
    "\n",
    "thread_local = threading.local()\n",
    "\n",
    "\n",
    "def get_session():\n",
    "    if not hasattr(thread_local, \"session\"):\n",
    "        thread_local.session = requests.Session()\n",
    "    return thread_local.session\n",
    "\n",
    "\n",
    "def get_site(url):\n",
    "    session = get_session()\n",
    "    with session.get(url) as response:\n",
    "        print(f\"Read {len(response.content)} from {url}\")\n",
    "\n",
    "\n",
    "def get_all_sites(sites):\n",
    "    with concurrent.futures.ThreadPoolExecutor(max_workers=5) as executor:\n",
    "        executor.map(get_site, sites)\n",
    "\n",
    "\n",
    "if __name__ == \"__main__\":\n",
    "    sites = [\n",
    "       \"https://www.jython.org\",\n",
    "       \"https://en.wikipedia.org/wiki/Small\",\n",
    "    ] * 60\n",
    "    time1 = time.time()\n",
    "    get_all_sites(sites)\n",
    "    runtime = time.time() - time1\n",
    "    print(f\"Downloaded {len(sites)} in {runtime} seconds\")"
   ],
   "metadata": {
    "id": "QgqeX2axCZ-W",
    "ExecuteTime": {
     "end_time": "2024-03-11T13:12:37.975045Z",
     "start_time": "2024-03-11T13:12:36.875084Z"
    }
   },
   "execution_count": 6,
   "outputs": [
    {
     "name": "stdout",
     "output_type": "stream",
     "text": [
      "Read 10783 from https://www.jython.org\n",
      "Read 10783 from https://www.jython.org\n",
      "Read 10783 from https://www.jython.org\n",
      "Read 10783 from https://www.jython.org\n",
      "Read 10783 from https://www.jython.org\n",
      "Read 51146 from https://en.wikipedia.org/wiki/Small\n",
      "Read 51146 from https://en.wikipedia.org/wiki/Small\n",
      "Read 51146 from https://en.wikipedia.org/wiki/Small\n",
      "Read 51146 from https://en.wikipedia.org/wiki/Small\n",
      "Read 51146 from https://en.wikipedia.org/wiki/Small\n",
      "Read 10783 from https://www.jython.org\n",
      "Read 10783 from https://www.jython.org\n",
      "Read 51146 from https://en.wikipedia.org/wiki/Small\n",
      "Read 51146 from https://en.wikipedia.org/wiki/Small\n",
      "Read 10783 from https://www.jython.org\n",
      "Read 10783 from https://www.jython.org\n",
      "Read 51146 from https://en.wikipedia.org/wiki/Small\n",
      "Read 10783 from https://www.jython.org\n",
      "Read 10783 from https://www.jython.org\n",
      "Read 51146 from https://en.wikipedia.org/wiki/Small\n",
      "Read 10783 from https://www.jython.org\n",
      "Read 10783 from https://www.jython.orgRead 51146 from https://en.wikipedia.org/wiki/Small\n",
      "\n",
      "Read 51146 from https://en.wikipedia.org/wiki/Small\n",
      "Read 51146 from https://en.wikipedia.org/wiki/Small\n",
      "Read 51146 from https://en.wikipedia.org/wiki/Small\n",
      "Read 10783 from https://www.jython.org\n",
      "Read 10783 from https://www.jython.org\n",
      "Read 51146 from https://en.wikipedia.org/wiki/Small\n",
      "Read 10783 from https://www.jython.org\n",
      "Read 10783 from https://www.jython.org\n",
      "Read 51146 from https://en.wikipedia.org/wiki/Small\n",
      "Read 51146 from https://en.wikipedia.org/wiki/Small\n",
      "Read 10783 from https://www.jython.org\n",
      "Read 10783 from https://www.jython.org\n",
      "Read 51146 from https://en.wikipedia.org/wiki/Small\n",
      "Read 51146 from https://en.wikipedia.org/wiki/Small\n",
      "Read 10783 from https://www.jython.org\n",
      "Read 10783 from https://www.jython.org\n",
      "Read 51146 from https://en.wikipedia.org/wiki/Small\n",
      "Read 10783 from https://www.jython.org\n",
      "Read 51146 from https://en.wikipedia.org/wiki/Small\n",
      "Read 10783 from https://www.jython.org\n",
      "Read 51146 from https://en.wikipedia.org/wiki/Small\n",
      "Read 10783 from https://www.jython.org\n",
      "Read 51146 from https://en.wikipedia.org/wiki/Small\n",
      "Read 10783 from https://www.jython.org\n",
      "Read 51146 from https://en.wikipedia.org/wiki/Small\n",
      "Read 51146 from https://en.wikipedia.org/wiki/Small\n",
      "Read 10783 from https://www.jython.org\n",
      "Read 10783 from https://www.jython.org\n",
      "Read 51146 from https://en.wikipedia.org/wiki/Small\n",
      "Read 51146 from https://en.wikipedia.org/wiki/Small\n",
      "Read 51146 from https://en.wikipedia.org/wiki/Small\n",
      "Read 10783 from https://www.jython.org\n",
      "Read 10783 from https://www.jython.org\n",
      "Read 10783 from https://www.jython.org\n",
      "Read 51146 from https://en.wikipedia.org/wiki/Small\n",
      "Read 10783 from https://www.jython.org\n",
      "Read 51146 from https://en.wikipedia.org/wiki/Small\n",
      "Read 51146 from https://en.wikipedia.org/wiki/Small\n",
      "Read 10783 from https://www.jython.org\n",
      "Read 10783 from https://www.jython.org\n",
      "Read 51146 from https://en.wikipedia.org/wiki/Small\n",
      "Read 51146 from https://en.wikipedia.org/wiki/Small\n",
      "Read 10783 from https://www.jython.org\n",
      "Read 10783 from https://www.jython.org\n",
      "Read 51146 from https://en.wikipedia.org/wiki/Small\n",
      "Read 10783 from https://www.jython.org\n",
      "Read 51146 from https://en.wikipedia.org/wiki/Small\n",
      "Read 51146 from https://en.wikipedia.org/wiki/Small\n",
      "Read 10783 from https://www.jython.org\n",
      "Read 10783 from https://www.jython.org\n",
      "Read 51146 from https://en.wikipedia.org/wiki/Small\n",
      "Read 10783 from https://www.jython.org\n",
      "Read 51146 from https://en.wikipedia.org/wiki/Small\n",
      "Read 10783 from https://www.jython.org\n",
      "Read 51146 from https://en.wikipedia.org/wiki/Small\n",
      "Read 51146 from https://en.wikipedia.org/wiki/Small\n",
      "Read 10783 from https://www.jython.org\n",
      "Read 10783 from https://www.jython.org\n",
      "Read 10783 from https://www.jython.org\n",
      "Read 51146 from https://en.wikipedia.org/wiki/Small\n",
      "Read 51146 from https://en.wikipedia.org/wiki/Small\n",
      "Read 51146 from https://en.wikipedia.org/wiki/Small\n",
      "Read 10783 from https://www.jython.org\n",
      "Read 10783 from https://www.jython.org\n",
      "Read 51146 from https://en.wikipedia.org/wiki/Small\n",
      "Read 10783 from https://www.jython.org\n",
      "Read 51146 from https://en.wikipedia.org/wiki/Small\n",
      "Read 51146 from https://en.wikipedia.org/wiki/Small\n",
      "Read 10783 from https://www.jython.org\n",
      "Read 51146 from https://en.wikipedia.org/wiki/Small\n",
      "Read 10783 from https://www.jython.org\n",
      "Read 10783 from https://www.jython.org\n",
      "Read 51146 from https://en.wikipedia.org/wiki/Small\n",
      "Read 10783 from https://www.jython.org\n",
      "Read 51146 from https://en.wikipedia.org/wiki/Small\n",
      "Read 51146 from https://en.wikipedia.org/wiki/Small\n",
      "Read 10783 from https://www.jython.org\n",
      "Read 10783 from https://www.jython.org\n",
      "Read 51146 from https://en.wikipedia.org/wiki/Small\n",
      "Read 51146 from https://en.wikipedia.org/wiki/Small\n",
      "Read 10783 from https://www.jython.org\n",
      "Read 51146 from https://en.wikipedia.org/wiki/Small\n",
      "Read 10783 from https://www.jython.org\n",
      "Read 10783 from https://www.jython.org\n",
      "Read 51146 from https://en.wikipedia.org/wiki/Small\n",
      "Read 10783 from https://www.jython.org\n",
      "Read 51146 from https://en.wikipedia.org/wiki/Small\n",
      "Read 51146 from https://en.wikipedia.org/wiki/Small\n",
      "Read 10783 from https://www.jython.org\n",
      "Read 10783 from https://www.jython.org\n",
      "Read 51146 from https://en.wikipedia.org/wiki/Small\n",
      "Read 51146 from https://en.wikipedia.org/wiki/Small\n",
      "Read 51146 from https://en.wikipedia.org/wiki/Small\n",
      "Read 10783 from https://www.jython.org\n",
      "Read 10783 from https://www.jython.org\n",
      "Read 51146 from https://en.wikipedia.org/wiki/Small\n",
      "Read 51146 from https://en.wikipedia.org/wiki/Small\n",
      "Downloaded 120 in 1.0950205326080322 seconds\n"
     ]
    }
   ]
  },
  {
   "cell_type": "markdown",
   "source": [
    "**Task 8.8 asyncio based Web Downloads**\n",
    "\n",
    "1.   You will now perform web downloads using `asyncio`.\n",
    "2.   You will need to install the `aiohttp` library to make it work. Installation can be done using `pip install aiohttp` as shown below.\n",
    "\n",
    "\n"
   ],
   "metadata": {
    "id": "CQfiEhof8sA5"
   }
  },
  {
   "cell_type": "code",
   "source": [
    "pip install aiohttp"
   ],
   "metadata": {
    "id": "2GPDjJ9H6EZ1"
   },
   "execution_count": null,
   "outputs": []
  },
  {
   "cell_type": "markdown",
   "source": [
    "3.   Complete the definition of the `get_all_sites()` function given below. Running this code will throw an **error**. You can complete the function definition by using the `main()` function in code block 04 as reference.\n",
    "\n",
    "4. HINT: Each job needs to contain `asyncio.ensure_future` with `get_site()` as the argument."
   ],
   "metadata": {
    "id": "QwH5c9umVLgZ"
   }
  },
  {
   "cell_type": "code",
   "source": [
    "import asyncio\n",
    "import nest_asyncio\n",
    "import time\n",
    "import aiohttp\n",
    "\n",
    "\n",
    "async def get_site(session, url):\n",
    "    async with session.get(url) as response:\n",
    "        print(\"Read {0} from {1}\".format(response.content_length, url))\n",
    "\n",
    "\n",
    "async def get_all_sites(sites):\n",
    "    async with aiohttp.ClientSession() as session:\n",
    "        jobs = []\n",
    "        for site in sites:\n",
    "            job = asyncio.ensure_future(get_site(session, site))\n",
    "            jobs.append(job)\n",
    "        await asyncio.gather(*jobs, return_exceptions=True)\n",
    "            \n",
    "if __name__ == \"__main__\":\n",
    "    sites = [\n",
    "       \"https://www.jython.org\",\n",
    "       \"https://en.wikipedia.org/wiki/Small\",\n",
    "    ] * 60\n",
    "    time1 = time.time()\n",
    "    nest_asyncio.apply()\n",
    "    asyncio.run(get_all_sites(sites)) #Get event loop and run asyn tasks\n",
    "    runtime = time.time() - time1\n",
    "    print(f\"Downloaded {len(sites)} sites in {runtime} seconds\")"
   ],
   "metadata": {
    "id": "XeqhqK3T5_jc",
    "colab": {
     "base_uri": "https://localhost:8080/",
     "height": 106
    },
    "outputId": "876f2127-37f6-4cf6-b234-ae9df1e1ba26",
    "ExecuteTime": {
     "end_time": "2024-03-11T13:19:29.762550Z",
     "start_time": "2024-03-11T13:19:29.002976Z"
    }
   },
   "execution_count": 7,
   "outputs": [
    {
     "name": "stdout",
     "output_type": "stream",
     "text": [
      "Read 3717 from https://www.jython.org\n",
      "Read 3717 from https://www.jython.org\n",
      "Read 3717 from https://www.jython.org\n",
      "Read 3717 from https://www.jython.org\n",
      "Read 3717 from https://www.jython.org\n",
      "Read 3717 from https://www.jython.org\n",
      "Read 3717 from https://www.jython.org\n",
      "Read 3717 from https://www.jython.org\n",
      "Read 3717 from https://www.jython.org\n",
      "Read 3717 from https://www.jython.org\n",
      "Read 3717 from https://www.jython.org\n",
      "Read 3717 from https://www.jython.org\n",
      "Read 3717 from https://www.jython.org\n",
      "Read 3717 from https://www.jython.org\n",
      "Read 3717 from https://www.jython.org\n",
      "Read 3717 from https://www.jython.org\n",
      "Read 3717 from https://www.jython.org\n",
      "Read 3717 from https://www.jython.org\n",
      "Read 3717 from https://www.jython.org\n",
      "Read 3717 from https://www.jython.org\n",
      "Read 3717 from https://www.jython.org\n",
      "Read 3717 from https://www.jython.org\n",
      "Read 3717 from https://www.jython.org\n",
      "Read 3717 from https://www.jython.org\n",
      "Read 3717 from https://www.jython.org\n",
      "Read 3717 from https://www.jython.org\n",
      "Read 3717 from https://www.jython.org\n",
      "Read 3717 from https://www.jython.org\n",
      "Read 3717 from https://www.jython.org\n",
      "Read 3717 from https://www.jython.org\n",
      "Read 3717 from https://www.jython.org\n",
      "Read 3717 from https://www.jython.org\n",
      "Read 3717 from https://www.jython.org\n",
      "Read 3717 from https://www.jython.org\n",
      "Read 3717 from https://www.jython.org\n",
      "Read 3717 from https://www.jython.org\n",
      "Read 3717 from https://www.jython.org\n",
      "Read 3717 from https://www.jython.org\n",
      "Read 3717 from https://www.jython.org\n",
      "Read 3717 from https://www.jython.org\n",
      "Read 3717 from https://www.jython.org\n",
      "Read 3717 from https://www.jython.org\n",
      "Read 3717 from https://www.jython.org\n",
      "Read 3717 from https://www.jython.org\n",
      "Read 3717 from https://www.jython.org\n",
      "Read 3717 from https://www.jython.org\n",
      "Read 3717 from https://www.jython.org\n",
      "Read 3717 from https://www.jython.org\n",
      "Read 3717 from https://www.jython.org\n",
      "Read 12414 from https://en.wikipedia.org/wiki/Small\n",
      "Read 3717 from https://www.jython.org\n",
      "Read 12414 from https://en.wikipedia.org/wiki/Small\n",
      "Read 12414 from https://en.wikipedia.org/wiki/Small\n",
      "Read 12414 from https://en.wikipedia.org/wiki/Small\n",
      "Read 12414 from https://en.wikipedia.org/wiki/Small\n",
      "Read 12414 from https://en.wikipedia.org/wiki/Small\n",
      "Read 12414 from https://en.wikipedia.org/wiki/Small\n",
      "Read 12414 from https://en.wikipedia.org/wiki/Small\n",
      "Read 12414 from https://en.wikipedia.org/wiki/Small\n",
      "Read 3717 from https://www.jython.org\n",
      "Read 3717 from https://www.jython.org\n",
      "Read 12414 from https://en.wikipedia.org/wiki/Small\n",
      "Read 12414 from https://en.wikipedia.org/wiki/Small\n",
      "Read 3717 from https://www.jython.org\n",
      "Read 3717 from https://www.jython.org\n",
      "Read 3717 from https://www.jython.org\n",
      "Read 3717 from https://www.jython.org\n",
      "Read 12414 from https://en.wikipedia.org/wiki/Small\n",
      "Read 12414 from https://en.wikipedia.org/wiki/Small\n",
      "Read 3717 from https://www.jython.org\n",
      "Read 3717 from https://www.jython.org\n",
      "Read 3717 from https://www.jython.org\n",
      "Read 12414 from https://en.wikipedia.org/wiki/Small\n",
      "Read 12414 from https://en.wikipedia.org/wiki/Small\n",
      "Read 3717 from https://www.jython.org\n",
      "Read 12414 from https://en.wikipedia.org/wiki/Small\n",
      "Read 12414 from https://en.wikipedia.org/wiki/Small\n",
      "Read 12414 from https://en.wikipedia.org/wiki/Small\n",
      "Read 12414 from https://en.wikipedia.org/wiki/Small\n",
      "Read 12414 from https://en.wikipedia.org/wiki/Small\n",
      "Read 12414 from https://en.wikipedia.org/wiki/Small\n",
      "Read 12414 from https://en.wikipedia.org/wiki/Small\n",
      "Read 12414 from https://en.wikipedia.org/wiki/Small\n",
      "Read 12414 from https://en.wikipedia.org/wiki/Small\n",
      "Read 12414 from https://en.wikipedia.org/wiki/Small\n",
      "Read 12414 from https://en.wikipedia.org/wiki/Small\n",
      "Read 12414 from https://en.wikipedia.org/wiki/Small\n",
      "Read 12414 from https://en.wikipedia.org/wiki/Small\n",
      "Read 12414 from https://en.wikipedia.org/wiki/Small\n",
      "Read 12414 from https://en.wikipedia.org/wiki/Small\n",
      "Read 12414 from https://en.wikipedia.org/wiki/Small\n",
      "Read 12414 from https://en.wikipedia.org/wiki/Small\n",
      "Read 12414 from https://en.wikipedia.org/wiki/Small\n",
      "Read 12414 from https://en.wikipedia.org/wiki/Small\n",
      "Read 12414 from https://en.wikipedia.org/wiki/Small\n",
      "Read 12414 from https://en.wikipedia.org/wiki/Small\n",
      "Read 12414 from https://en.wikipedia.org/wiki/Small\n",
      "Read 12414 from https://en.wikipedia.org/wiki/Small\n",
      "Read 12414 from https://en.wikipedia.org/wiki/Small\n",
      "Read 12414 from https://en.wikipedia.org/wiki/Small\n",
      "Read 12414 from https://en.wikipedia.org/wiki/Small\n",
      "Read 12414 from https://en.wikipedia.org/wiki/Small\n",
      "Read 12414 from https://en.wikipedia.org/wiki/Small\n",
      "Read 12414 from https://en.wikipedia.org/wiki/Small\n",
      "Read 12414 from https://en.wikipedia.org/wiki/Small\n",
      "Read 12414 from https://en.wikipedia.org/wiki/Small\n",
      "Read 12414 from https://en.wikipedia.org/wiki/Small\n",
      "Read 12414 from https://en.wikipedia.org/wiki/Small\n",
      "Read 12414 from https://en.wikipedia.org/wiki/Small\n",
      "Read 12414 from https://en.wikipedia.org/wiki/Small\n",
      "Read 12414 from https://en.wikipedia.org/wiki/Small\n",
      "Read 12414 from https://en.wikipedia.org/wiki/Small\n",
      "Read 12414 from https://en.wikipedia.org/wiki/Small\n",
      "Read 12414 from https://en.wikipedia.org/wiki/Small\n",
      "Read 12414 from https://en.wikipedia.org/wiki/Small\n",
      "Read 12414 from https://en.wikipedia.org/wiki/Small\n",
      "Read 12414 from https://en.wikipedia.org/wiki/Small\n",
      "Read 12414 from https://en.wikipedia.org/wiki/Small\n",
      "Read 12414 from https://en.wikipedia.org/wiki/Small\n",
      "Read 12414 from https://en.wikipedia.org/wiki/Small\n",
      "Downloaded 120 sites in 0.6890721321105957 seconds\n"
     ]
    }
   ]
  },
  {
   "cell_type": "markdown",
   "source": [
    "**Review Quiz Q5** Copy-paste your `get_all_sites` function after completing task 8.8"
   ],
   "metadata": {
    "id": "c3PqUXz3WsX1"
   }
  }
 ]
}
